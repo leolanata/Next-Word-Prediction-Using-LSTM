{
 "cells": [
  {
   "cell_type": "code",
   "execution_count": 1,
   "id": "52ab7be5",
   "metadata": {},
   "outputs": [],
   "source": [
    "import tensorflow as tf\n",
    "from tensorflow.keras.preprocessing.text import Tokenizer\n",
    "from tensorflow.keras.layers import Embedding, LSTM, Dense\n",
    "from tensorflow.keras.models import Sequential\n",
    "from tensorflow.keras.utils import to_categorical\n",
    "from tensorflow.keras.optimizers import Adam\n",
    "import pickle\n",
    "import numpy as np\n",
    "import os"
   ]
  },
  {
   "cell_type": "code",
   "execution_count": 2,
   "id": "f3f94208",
   "metadata": {},
   "outputs": [
    {
     "data": {
      "text/plain": [
       "'\"Apple MacBook Air Core i5 13.3-inch Laptop (8GB/128GB/MacOS Sierra/Silver/1.35kg), MQD32HN/A MacBook Air lasts up to an incredible 12 hours between charges. So from your morning coffee to your evening commute, you can work unplugged. When it’s time to kick back and relax, you can get up to 12 hours of iTunes movie playback. And with up to 30 days of standby time, you can go away for weeks and pick up where you left off.Whatever the task, fifth-generation Intel Core i5 and i7 processors with Int'"
      ]
     },
     "execution_count": 2,
     "metadata": {},
     "output_type": "execute_result"
    }
   ],
   "source": [
    "file = open(\"Ecommerce Electronics.txt\", \"r\", encoding = \"utf8\") ##book1 (2) the final one\n",
    "\n",
    "# store file in list\n",
    "lines = []\n",
    "for i in file:\n",
    "    lines.append(i)\n",
    "\n",
    "# Convert list to string\n",
    "data = \"\"\n",
    "for i in lines:\n",
    "    data = ' '. join(lines) \n",
    "\n",
    "#replace unnecessary stuff with space\n",
    "data = data.replace('\\n', '').replace('\\r', '').replace('\\ufeff', '').replace('“','').replace('”','')  #new line, carriage return, unicode character --> replace by space\n",
    "\n",
    "#remove unnecessary spaces \n",
    "data = data.split()\n",
    "data = ' '.join(data)\n",
    "data[:500]"
   ]
  },
  {
   "cell_type": "code",
   "execution_count": 3,
   "id": "7d43bc15",
   "metadata": {},
   "outputs": [
    {
     "data": {
      "text/plain": [
       "836662"
      ]
     },
     "execution_count": 3,
     "metadata": {},
     "output_type": "execute_result"
    }
   ],
   "source": [
    "len(data)"
   ]
  },
  {
   "cell_type": "code",
   "execution_count": 4,
   "id": "e142df33",
   "metadata": {},
   "outputs": [
    {
     "data": {
      "text/plain": [
       "[293, 1172, 378, 720, 1692, 947, 24, 93, 166, 1173, 5849, 2947, 3936, 539, 12]"
      ]
     },
     "execution_count": 4,
     "metadata": {},
     "output_type": "execute_result"
    }
   ],
   "source": [
    "tokenizer = Tokenizer()\n",
    "tokenizer.fit_on_texts([data])\n",
    "\n",
    "# saving the tokenizer for predict function\n",
    "pickle.dump(tokenizer, open('token.pkl', 'wb'))\n",
    "\n",
    "sequence_data = tokenizer.texts_to_sequences([data])[0]\n",
    "sequence_data[:15]"
   ]
  },
  {
   "cell_type": "code",
   "execution_count": 5,
   "id": "0a54dd7e",
   "metadata": {},
   "outputs": [
    {
     "data": {
      "text/plain": [
       "138482"
      ]
     },
     "execution_count": 5,
     "metadata": {},
     "output_type": "execute_result"
    }
   ],
   "source": [
    "len(sequence_data)"
   ]
  },
  {
   "cell_type": "code",
   "execution_count": 6,
   "id": "5f90eaf2",
   "metadata": {},
   "outputs": [
    {
     "name": "stdout",
     "output_type": "stream",
     "text": [
      "6831\n"
     ]
    }
   ],
   "source": [
    "vocab_size = len(tokenizer.word_index) + 1\n",
    "print(vocab_size)"
   ]
  },
  {
   "cell_type": "code",
   "execution_count": 7,
   "id": "49dd5b31",
   "metadata": {},
   "outputs": [
    {
     "name": "stdout",
     "output_type": "stream",
     "text": [
      "The Length of sequences are:  138479\n"
     ]
    },
    {
     "data": {
      "text/plain": [
       "array([[ 293, 1172,  378,  720],\n",
       "       [1172,  378,  720, 1692],\n",
       "       [ 378,  720, 1692,  947],\n",
       "       [ 720, 1692,  947,   24],\n",
       "       [1692,  947,   24,   93],\n",
       "       [ 947,   24,   93,  166],\n",
       "       [  24,   93,  166, 1173],\n",
       "       [  93,  166, 1173, 5849],\n",
       "       [ 166, 1173, 5849, 2947],\n",
       "       [1173, 5849, 2947, 3936]])"
      ]
     },
     "execution_count": 7,
     "metadata": {},
     "output_type": "execute_result"
    }
   ],
   "source": [
    "sequences = []\n",
    "\n",
    "for i in range(3, len(sequence_data)):\n",
    "    words = sequence_data[i-3:i+1]\n",
    "    sequences.append(words)\n",
    "    \n",
    "print(\"The Length of sequences are: \", len(sequences))\n",
    "sequences = np.array(sequences)\n",
    "sequences[:10]"
   ]
  },
  {
   "cell_type": "code",
   "execution_count": 8,
   "id": "e916a7e5",
   "metadata": {},
   "outputs": [],
   "source": [
    "X = []\n",
    "y = []\n",
    "\n",
    "for i in sequences:\n",
    "    X.append(i[0:3])\n",
    "    y.append(i[3])\n",
    "    \n",
    "X = np.array(X)\n",
    "y = np.array(y)"
   ]
  },
  {
   "cell_type": "code",
   "execution_count": 9,
   "id": "243e146e",
   "metadata": {},
   "outputs": [
    {
     "name": "stdout",
     "output_type": "stream",
     "text": [
      "Data:  [[ 293 1172  378]\n",
      " [1172  378  720]\n",
      " [ 378  720 1692]\n",
      " [ 720 1692  947]\n",
      " [1692  947   24]\n",
      " [ 947   24   93]\n",
      " [  24   93  166]\n",
      " [  93  166 1173]\n",
      " [ 166 1173 5849]\n",
      " [1173 5849 2947]]\n",
      "Response:  [ 720 1692  947   24   93  166 1173 5849 2947 3936]\n"
     ]
    }
   ],
   "source": [
    "print(\"Data: \", X[:10])\n",
    "print(\"Response: \", y[:10])"
   ]
  },
  {
   "cell_type": "code",
   "execution_count": 10,
   "id": "963da5a3",
   "metadata": {},
   "outputs": [
    {
     "data": {
      "text/plain": [
       "array([[0., 0., 0., ..., 0., 0., 0.],\n",
       "       [0., 0., 0., ..., 0., 0., 0.],\n",
       "       [0., 0., 0., ..., 0., 0., 0.],\n",
       "       [0., 0., 0., ..., 0., 0., 0.],\n",
       "       [0., 0., 0., ..., 0., 0., 0.]], dtype=float32)"
      ]
     },
     "execution_count": 10,
     "metadata": {},
     "output_type": "execute_result"
    }
   ],
   "source": [
    "y = to_categorical(y, num_classes=vocab_size)\n",
    "y[:5]"
   ]
  },
  {
   "cell_type": "code",
   "execution_count": 11,
   "id": "802abcad",
   "metadata": {},
   "outputs": [],
   "source": [
    "model = Sequential()\n",
    "model.add(Embedding(vocab_size, 10, input_length=3))\n",
    "model.add(LSTM(1000, return_sequences=True))\n",
    "model.add(LSTM(1000))\n",
    "model.add(Dense(1000, activation=\"relu\"))\n",
    "model.add(Dense(vocab_size, activation=\"softmax\"))"
   ]
  },
  {
   "cell_type": "code",
   "execution_count": 12,
   "id": "0cfa37d9",
   "metadata": {},
   "outputs": [
    {
     "name": "stdout",
     "output_type": "stream",
     "text": [
      "Model: \"sequential\"\n",
      "_________________________________________________________________\n",
      " Layer (type)                Output Shape              Param #   \n",
      "=================================================================\n",
      " embedding (Embedding)       (None, 3, 10)             68310     \n",
      "                                                                 \n",
      " lstm (LSTM)                 (None, 3, 1000)           4044000   \n",
      "                                                                 \n",
      " lstm_1 (LSTM)               (None, 1000)              8004000   \n",
      "                                                                 \n",
      " dense (Dense)               (None, 1000)              1001000   \n",
      "                                                                 \n",
      " dense_1 (Dense)             (None, 6831)              6837831   \n",
      "                                                                 \n",
      "=================================================================\n",
      "Total params: 19,955,141\n",
      "Trainable params: 19,955,141\n",
      "Non-trainable params: 0\n",
      "_________________________________________________________________\n"
     ]
    }
   ],
   "source": [
    "model.summary()"
   ]
  },
  {
   "cell_type": "code",
   "execution_count": 13,
   "id": "e5d82b97",
   "metadata": {},
   "outputs": [
    {
     "data": {
      "image/png": "[encoded data removed]",
      "text/plain": [
       "<IPython.core.display.Image object>"
      ]
     },
     "execution_count": 13,
     "metadata": {},
     "output_type": "execute_result"
    }
   ],
   "source": [
    "from tensorflow import keras\n",
    "from keras.utils.vis_utils import plot_model\n",
    "\n",
    "keras.utils.plot_model(model, to_file='plot.png', show_layer_names=True)"
   ]
  },
  {
   "cell_type": "code",
   "execution_count": 14,
   "id": "220a7919",
   "metadata": {},
   "outputs": [
    {
     "name": "stdout",
     "output_type": "stream",
     "text": [
      "Epoch 1/30\n",
      "2164/2164 [==============================] - ETA: 0s - loss: 6.8683\n",
      "Epoch 1: loss improved from inf to 6.86832, saving model to next_words.h5\n",
      "2164/2164 [==============================] - 386s 177ms/step - loss: 6.8683\n",
      "Epoch 2/30\n",
      "2164/2164 [==============================] - ETA: 0s - loss: 5.8195\n",
      "Epoch 2: loss improved from 6.86832 to 5.81954, saving model to next_words.h5\n",
      "2164/2164 [==============================] - 395s 183ms/step - loss: 5.8195\n",
      "Epoch 3/30\n",
      "2164/2164 [==============================] - ETA: 0s - loss: 4.7424\n",
      "Epoch 3: loss improved from 5.81954 to 4.74245, saving model to next_words.h5\n",
      "2164/2164 [==============================] - 389s 180ms/step - loss: 4.7424\n",
      "Epoch 4/30\n",
      "2164/2164 [==============================] - ETA: 0s - loss: 3.8027\n",
      "Epoch 4: loss improved from 4.74245 to 3.80266, saving model to next_words.h5\n",
      "2164/2164 [==============================] - 387s 179ms/step - loss: 3.8027\n",
      "Epoch 5/30\n",
      "2164/2164 [==============================] - ETA: 0s - loss: 3.0354\n",
      "Epoch 5: loss improved from 3.80266 to 3.03543, saving model to next_words.h5\n",
      "2164/2164 [==============================] - 414s 191ms/step - loss: 3.0354\n",
      "Epoch 6/30\n",
      "2164/2164 [==============================] - ETA: 0s - loss: 2.4004\n",
      "Epoch 6: loss improved from 3.03543 to 2.40039, saving model to next_words.h5\n",
      "2164/2164 [==============================] - 412s 190ms/step - loss: 2.4004\n",
      "Epoch 7/30\n",
      "2164/2164 [==============================] - ETA: 0s - loss: 1.8860\n",
      "Epoch 7: loss improved from 2.40039 to 1.88603, saving model to next_words.h5\n",
      "2164/2164 [==============================] - 411s 190ms/step - loss: 1.8860\n",
      "Epoch 8/30\n",
      "2164/2164 [==============================] - ETA: 0s - loss: 1.4727\n",
      "Epoch 8: loss improved from 1.88603 to 1.47274, saving model to next_words.h5\n",
      "2164/2164 [==============================] - 419s 194ms/step - loss: 1.4727\n",
      "Epoch 9/30\n",
      "2164/2164 [==============================] - ETA: 0s - loss: 1.1470\n",
      "Epoch 9: loss improved from 1.47274 to 1.14697, saving model to next_words.h5\n",
      "2164/2164 [==============================] - 428s 198ms/step - loss: 1.1470\n",
      "Epoch 10/30\n",
      "2164/2164 [==============================] - ETA: 0s - loss: 0.8990\n",
      "Epoch 10: loss improved from 1.14697 to 0.89897, saving model to next_words.h5\n",
      "2164/2164 [==============================] - 410s 190ms/step - loss: 0.8990\n",
      "Epoch 11/30\n",
      "2164/2164 [==============================] - ETA: 0s - loss: 0.7191\n",
      "Epoch 11: loss improved from 0.89897 to 0.71910, saving model to next_words.h5\n",
      "2164/2164 [==============================] - 403s 186ms/step - loss: 0.7191\n",
      "Epoch 12/30\n",
      "2164/2164 [==============================] - ETA: 0s - loss: 0.5964\n",
      "Epoch 12: loss improved from 0.71910 to 0.59641, saving model to next_words.h5\n",
      "2164/2164 [==============================] - 404s 187ms/step - loss: 0.5964\n",
      "Epoch 13/30\n",
      "2164/2164 [==============================] - ETA: 0s - loss: 0.5105\n",
      "Epoch 13: loss improved from 0.59641 to 0.51050, saving model to next_words.h5\n",
      "2164/2164 [==============================] - 390s 180ms/step - loss: 0.5105\n",
      "Epoch 14/30\n",
      "2164/2164 [==============================] - ETA: 0s - loss: 0.4501\n",
      "Epoch 14: loss improved from 0.51050 to 0.45007, saving model to next_words.h5\n",
      "2164/2164 [==============================] - 385s 178ms/step - loss: 0.4501\n",
      "Epoch 15/30\n",
      "2164/2164 [==============================] - ETA: 0s - loss: 0.4094\n",
      "Epoch 15: loss improved from 0.45007 to 0.40939, saving model to next_words.h5\n",
      "2164/2164 [==============================] - 379s 175ms/step - loss: 0.4094\n",
      "Epoch 16/30\n",
      "2164/2164 [==============================] - ETA: 0s - loss: 0.3783\n",
      "Epoch 16: loss improved from 0.40939 to 0.37832, saving model to next_words.h5\n",
      "2164/2164 [==============================] - 381s 176ms/step - loss: 0.3783\n",
      "Epoch 17/30\n",
      "2164/2164 [==============================] - ETA: 0s - loss: 0.3557\n",
      "Epoch 17: loss improved from 0.37832 to 0.35570, saving model to next_words.h5\n",
      "2164/2164 [==============================] - 383s 177ms/step - loss: 0.3557\n",
      "Epoch 18/30\n",
      "2164/2164 [==============================] - ETA: 0s - loss: 0.3369\n",
      "Epoch 18: loss improved from 0.35570 to 0.33687, saving model to next_words.h5\n",
      "2164/2164 [==============================] - 383s 177ms/step - loss: 0.3369\n",
      "Epoch 19/30\n",
      "2164/2164 [==============================] - ETA: 0s - loss: 0.3236\n",
      "Epoch 19: loss improved from 0.33687 to 0.32357, saving model to next_words.h5\n",
      "2164/2164 [==============================] - 384s 177ms/step - loss: 0.3236\n",
      "Epoch 20/30\n",
      "2164/2164 [==============================] - ETA: 0s - loss: 0.3079\n",
      "Epoch 20: loss improved from 0.32357 to 0.30788, saving model to next_words.h5\n",
      "2164/2164 [==============================] - 383s 177ms/step - loss: 0.3079\n",
      "Epoch 21/30\n",
      "2164/2164 [==============================] - ETA: 0s - loss: 0.2983\n",
      "Epoch 21: loss improved from 0.30788 to 0.29832, saving model to next_words.h5\n",
      "2164/2164 [==============================] - 390s 180ms/step - loss: 0.2983\n",
      "Epoch 22/30\n",
      "2164/2164 [==============================] - ETA: 0s - loss: 0.2879\n",
      "Epoch 22: loss improved from 0.29832 to 0.28792, saving model to next_words.h5\n",
      "2164/2164 [==============================] - 389s 180ms/step - loss: 0.2879\n",
      "Epoch 23/30\n",
      "2164/2164 [==============================] - ETA: 0s - loss: 0.2800\n",
      "Epoch 23: loss improved from 0.28792 to 0.27997, saving model to next_words.h5\n",
      "2164/2164 [==============================] - 391s 181ms/step - loss: 0.2800\n",
      "Epoch 24/30\n",
      "2164/2164 [==============================] - ETA: 0s - loss: 0.2736\n",
      "Epoch 24: loss improved from 0.27997 to 0.27358, saving model to next_words.h5\n",
      "2164/2164 [==============================] - 385s 178ms/step - loss: 0.2736\n",
      "Epoch 25/30\n",
      "2164/2164 [==============================] - ETA: 0s - loss: 0.2649\n",
      "Epoch 25: loss improved from 0.27358 to 0.26493, saving model to next_words.h5\n",
      "2164/2164 [==============================] - 401s 185ms/step - loss: 0.2649\n",
      "Epoch 26/30\n",
      "2164/2164 [==============================] - ETA: 0s - loss: 0.2606\n",
      "Epoch 26: loss improved from 0.26493 to 0.26061, saving model to next_words.h5\n",
      "2164/2164 [==============================] - 389s 180ms/step - loss: 0.2606\n",
      "Epoch 27/30\n",
      "2164/2164 [==============================] - ETA: 0s - loss: 0.2501\n",
      "Epoch 27: loss improved from 0.26061 to 0.25007, saving model to next_words.h5\n",
      "2164/2164 [==============================] - 381s 176ms/step - loss: 0.2501\n",
      "Epoch 28/30\n",
      "2164/2164 [==============================] - ETA: 0s - loss: 0.2512\n",
      "Epoch 28: loss did not improve from 0.25007\n",
      "2164/2164 [==============================] - 375s 173ms/step - loss: 0.2512\n",
      "Epoch 29/30\n",
      "2164/2164 [==============================] - ETA: 0s - loss: 0.2435\n",
      "Epoch 29: loss improved from 0.25007 to 0.24352, saving model to next_words.h5\n",
      "2164/2164 [==============================] - 385s 178ms/step - loss: 0.2435\n",
      "Epoch 30/30\n",
      "2164/2164 [==============================] - ETA: 0s - loss: 0.2389\n",
      "Epoch 30: loss improved from 0.24352 to 0.23888, saving model to next_words.h5\n",
      "2164/2164 [==============================] - 429s 198ms/step - loss: 0.2389\n"
     ]
    },
    {
     "data": {
      "text/plain": [
       "<keras.callbacks.History at 0x7ff33b102ee0>"
      ]
     },
     "execution_count": 14,
     "metadata": {},
     "output_type": "execute_result"
    }
   ],
   "source": [
    "from tensorflow.keras.callbacks import ModelCheckpoint\n",
    "\n",
    "checkpoint = ModelCheckpoint(\"next_words.h5\", monitor='loss', verbose=1, save_best_only=True)\n",
    "model.compile(loss=\"categorical_crossentropy\", optimizer=Adam(learning_rate=0.001))\n",
    "model.fit(X, y, epochs=30, batch_size=64, callbacks=[checkpoint])"
   ]
  },
  {
   "cell_type": "code",
   "execution_count": null,
   "id": "f974ff2d",
   "metadata": {},
   "outputs": [],
   "source": []
  },
  {
   "cell_type": "code",
   "execution_count": null,
   "id": "ab48699d",
   "metadata": {},
   "outputs": [],
   "source": []
  },
  {
   "cell_type": "code",
   "execution_count": null,
   "id": "6fe6fb51",
   "metadata": {},
   "outputs": [],
   "source": []
  }
 ],
 "metadata": {
  "kernelspec": {
   "display_name": "Python 3",
   "language": "python",
   "name": "python3"
  },
  "language_info": {
   "codemirror_mode": {
    "name": "ipython",
    "version": 3
   },
   "file_extension": ".py",
   "mimetype": "text/x-python",
   "name": "python",
   "nbconvert_exporter": "python",
   "pygments_lexer": "ipython3",
   "version": "3.8.8"
  }
 },
 "nbformat": 4,
 "nbformat_minor": 5
}
